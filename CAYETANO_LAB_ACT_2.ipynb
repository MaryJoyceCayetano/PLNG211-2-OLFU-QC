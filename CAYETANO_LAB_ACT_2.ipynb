{
  "nbformat": 4,
  "nbformat_minor": 0,
  "metadata": {
    "colab": {
      "provenance": [],
      "authorship_tag": "ABX9TyPfK3gZA46Iy+rauJkzH42G",
      "include_colab_link": true
    },
    "kernelspec": {
      "name": "python3",
      "display_name": "Python 3"
    },
    "language_info": {
      "name": "python"
    }
  },
  "cells": [
    {
      "cell_type": "markdown",
      "metadata": {
        "id": "view-in-github",
        "colab_type": "text"
      },
      "source": [
        "<a href=\"https://colab.research.google.com/github/MaryJoyceCayetano/PLNG211-2-OLFU-QC/blob/main/CAYETANO_LAB_ACT_2.ipynb\" target=\"_parent\"><img src=\"https://colab.research.google.com/assets/colab-badge.svg\" alt=\"Open In Colab\"/></a>"
      ]
    },
    {
      "cell_type": "code",
      "execution_count": 4,
      "metadata": {
        "colab": {
          "base_uri": "https://localhost:8080/"
        },
        "id": "Z3g705wmpKGd",
        "outputId": "30a40579-f7b0-4239-a6bb-f9d65335cb7e"
      },
      "outputs": [
        {
          "output_type": "stream",
          "name": "stdout",
          "text": [
            "Hi, my name is Mary Joyce Cayetano\n",
            "My student number is 02210003847\n",
            "I am 19 years old\n",
            "My course is BS in Computer Science and \n",
            "Im currently studying at Our Lady of Fatima University\n"
          ]
        }
      ],
      "source": [
        "class Student:\n",
        "  name = \"Mary Joyce Cayetano\"\n",
        "  stud_num = \"02210003847\"\n",
        "  age = \"19\"\n",
        "  school = \"Our Lady of Fatima University\"\n",
        "  course = \"BS in Computer Science\"\n",
        "\n",
        "  def info(myself):\n",
        "    print(\"Hi, my name is \" + myself.name)\n",
        "    print(\"My student number is \" + myself.stud_num)\n",
        "    print(\"I am \" + myself.age + \" years old\")\n",
        "    print(\"My course is \" + myself.course , \"and \")\n",
        "    print(\"Im currently studying at \" + myself.school)\n",
        "p1 = Student()\n",
        "\n",
        "p1.info()\n"
      ]
    }
  ]
}