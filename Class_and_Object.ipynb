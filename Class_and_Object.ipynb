{
  "nbformat": 4,
  "nbformat_minor": 0,
  "metadata": {
    "colab": {
      "provenance": [],
      "authorship_tag": "ABX9TyNVWzAozEDYCnFpjAFUv0TC",
      "include_colab_link": true
    },
    "kernelspec": {
      "name": "python3",
      "display_name": "Python 3"
    },
    "language_info": {
      "name": "python"
    }
  },
  "cells": [
    {
      "cell_type": "markdown",
      "metadata": {
        "id": "view-in-github",
        "colab_type": "text"
      },
      "source": [
        "<a href=\"https://colab.research.google.com/github/MaryJoyceCayetano/PLNG211-2-OLFU-QC/blob/main/Class_and_Object.ipynb\" target=\"_parent\"><img src=\"https://colab.research.google.com/assets/colab-badge.svg\" alt=\"Open In Colab\"/></a>"
      ]
    },
    {
      "cell_type": "code",
      "source": [
        "class Person:\n",
        "  def __init__(self,name,age,address):\n",
        "    self.name = name\n",
        "    self.age = age\n",
        "    self.address = address\n",
        "  def myFunction(self):\n",
        "    print(\"I am\",self.name)\n",
        "    print(\"I am\",self.age,\"years old\")\n",
        "    print(\"I live in\",self.address)\n",
        "\n",
        "class Student(Person):\n",
        "  pass\n",
        "\n",
        "class Teacher(Person):\n",
        "  pass\n",
        "\n",
        "p1 = Person(\"Mary Joyce\",19,\"QC\")\n",
        "p1.myFunction()\n",
        "\n",
        "p2 = Student(\"Maria Joana\", 17, \"Bulacan\")\n",
        "p2.myFunction()\n",
        "\n",
        "p3 = Teacher(\"Marco Liam\", 2, \"Rodriquez, Rizal\")\n",
        "p3.myFunction()\n"
      ],
      "metadata": {
        "colab": {
          "base_uri": "https://localhost:8080/"
        },
        "id": "DwsJxdUEuead",
        "outputId": "69097dfc-a96b-4eda-c176-29a7b835f53c"
      },
      "execution_count": 3,
      "outputs": [
        {
          "output_type": "stream",
          "name": "stdout",
          "text": [
            "I am Mary Joyce\n",
            "I am 19 years old\n",
            "I live in QC\n",
            "I am Maria Joana\n",
            "I am 17 years old\n",
            "I live in Bulacan\n",
            "I am Marco Liam\n",
            "I am 2 years old\n",
            "I live in Rodriquez, Rizal\n"
          ]
        }
      ]
    },
    {
      "cell_type": "code",
      "source": [
        "#Application 1 - Write a Python program that computes the area and perimeter of a Square\n",
        "#Use Square as class name\n",
        "#Use sides as attributes\n",
        "#Create methods Area() and Perimeter()\n",
        "\n",
        "class Square:\n",
        "  pass\n",
        "  def __init__(side,num,size,per):\n",
        "    side.num = num\n",
        "    side.size = pow(num, 2)\n",
        "    side.per = num*4\n",
        "  def Area(side):\n",
        "    print(\"The area of Square\",side.size)\n",
        "    \n",
        "  def Perimeter(side):\n",
        "    print(\"The Perimeter of Square\",side.per)\n",
        "\n",
        "p1 = Square(5,0,0)\n",
        "p1.Area()\n",
        "p1.Perimeter()"
      ],
      "metadata": {
        "id": "RlTGaO5Duh6I",
        "colab": {
          "base_uri": "https://localhost:8080/"
        },
        "outputId": "3922c9d7-11cf-4876-9f57-f7d37de32267"
      },
      "execution_count": 1,
      "outputs": [
        {
          "output_type": "stream",
          "name": "stdout",
          "text": [
            "The area of Square 25\n",
            "The Perimeter of Square 20\n"
          ]
        }
      ]
    }
  ]
}