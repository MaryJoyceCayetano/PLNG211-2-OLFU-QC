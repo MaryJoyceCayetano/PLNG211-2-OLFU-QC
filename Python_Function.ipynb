{
  "nbformat": 4,
  "nbformat_minor": 0,
  "metadata": {
    "colab": {
      "provenance": [],
      "authorship_tag": "ABX9TyOiTi4MofYUKyuq2sOu/I9J",
      "include_colab_link": true
    },
    "kernelspec": {
      "name": "python3",
      "display_name": "Python 3"
    },
    "language_info": {
      "name": "python"
    }
  },
  "cells": [
    {
      "cell_type": "markdown",
      "metadata": {
        "id": "view-in-github",
        "colab_type": "text"
      },
      "source": [
        "<a href=\"https://colab.research.google.com/github/MaryJoyceCayetano/PLNG211-2-OLFU-QC/blob/main/Python_Function.ipynb\" target=\"_parent\"><img src=\"https://colab.research.google.com/assets/colab-badge.svg\" alt=\"Open In Colab\"/></a>"
      ]
    },
    {
      "cell_type": "code",
      "execution_count": null,
      "metadata": {
        "colab": {
          "base_uri": "https://localhost:8080/"
        },
        "id": "VI4Q7N5Sf1K9",
        "outputId": "57a402c3-96f4-4c16-8b67-dd8644ba5a2d"
      },
      "outputs": [
        {
          "output_type": "stream",
          "name": "stdout",
          "text": [
            "100\n",
            "Fahrenheit to Celslus 37.78\n"
          ]
        }
      ],
      "source": [
        "#Creating own Function\n",
        "\n",
        "def convert_to_celslus(fahrenheit):\n",
        "  return (fahrenheit-32)*5/9\n",
        "\n",
        "fahrenheit = int(input())\n",
        "print(\"Fahrenheit to Celslus\",round(convert_to_celslus(fahrenheit),2))"
      ]
    },
    {
      "cell_type": "code",
      "source": [
        "#Creat a fuction that will display three consecutive my_fuction values\n",
        "\n",
        "def my_function(fname):\n",
        "  print(fname+\"Cayetano\")\n",
        "\n",
        "my_function(\"Mary Joyce \")"
      ],
      "metadata": {
        "colab": {
          "base_uri": "https://localhost:8080/"
        },
        "id": "bjX2vKxLhiyj",
        "outputId": "b1b276ae-8968-4e6b-a260-0f42f2235146"
      },
      "execution_count": null,
      "outputs": [
        {
          "output_type": "stream",
          "name": "stdout",
          "text": [
            "Mary Joyce Cayetano\n"
          ]
        }
      ]
    },
    {
      "cell_type": "code",
      "source": [
        "#Create an arithmetic Function\n",
        "\n",
        "def myfunction(x):\n",
        "  return (5+x)\n",
        "\n",
        "print(myfunction(3))\n",
        "print(myfunction(5))\n",
        "print(myfunction(9))\n",
        "\n",
        "x = int (input())\n",
        "print(x)"
      ],
      "metadata": {
        "colab": {
          "base_uri": "https://localhost:8080/"
        },
        "id": "VGDwoObDilo0",
        "outputId": "c784a23c-134c-4d20-e745-a5240a8017e0"
      },
      "execution_count": null,
      "outputs": [
        {
          "output_type": "stream",
          "name": "stdout",
          "text": [
            "8\n",
            "10\n",
            "14\n",
            "100\n",
            "100\n"
          ]
        }
      ]
    },
    {
      "cell_type": "code",
      "source": [
        "# Exercise 1\n",
        "# Two of python's built-in function are min and max.\n",
        "# Given:\n",
        "#     a. min(2,3,4)\n",
        "#     b. max (2, -3, 4, 7,-5)\n",
        "#     b. max (2, -3, min(4,7), -5)\n",
        "\n",
        "def fun(element):\n",
        "    return(len(element))\n",
        " \n",
        "a =[2, 3 , 4]\n",
        "print(min(a))\n",
        "b =[2, -3, 4, 7, -5]\n",
        "print(max(b))\n",
        "c =[2, -3, min (4,7), 5]\n",
        "print (max(c))"
      ],
      "metadata": {
        "colab": {
          "base_uri": "https://localhost:8080/"
        },
        "id": "SZKUfNfJaYGx",
        "outputId": "f428c6ce-c7c0-492c-f381-947fcab4f609"
      },
      "execution_count": 4,
      "outputs": [
        {
          "output_type": "stream",
          "name": "stdout",
          "text": [
            "2\n",
            "7\n",
            "5\n"
          ]
        }
      ]
    },
    {
      "cell_type": "code",
      "source": [
        "# Exercise 2\n",
        "# Write a python function that will return the sum, the average, and the sum of squares of three integers.\n",
        "int \n",
        "def sum(firstInt,secondInt,thirdInt):\n",
        "  return firstInt + secondInt + thirdInt\n",
        "def average(firstInt,secondInt,thirdInt):\n",
        "  return firstInt + secondInt + thirdInt/3\n",
        "def sumSquare(firstInt,secondInt,thirdInt):\n",
        "  return math.pow(firstInt,2) + math.pow(secondInt,2) + math.pow(thirdInt,2)\n",
        "\n",
        "firstInt= int(input())\n",
        "secondInt= int(input())\n",
        "thirdInt= int(input())\n",
        "\n",
        "print(\"Sum =\",sum(firstInt,secondInt,thirdInt))\n",
        "print(\"Average =\",average(firstInt,secondInt,thirdInt))\n",
        "print(\"Sum of Squares =\",sumSquare(firstInt,secondInt,thirdInt))\n"
      ],
      "metadata": {
        "colab": {
          "base_uri": "https://localhost:8080/",
          "height": 408
        },
        "id": "3aq0LqUVbzvB",
        "outputId": "80ac9535-af59-43b9-b03d-519526d5fb86"
      },
      "execution_count": 5,
      "outputs": [
        {
          "output_type": "stream",
          "name": "stdout",
          "text": [
            "10\n",
            "20\n",
            "30\n",
            "Sum = 60\n",
            "Average = 40.0\n"
          ]
        },
        {
          "output_type": "error",
          "ename": "NameError",
          "evalue": "ignored",
          "traceback": [
            "\u001b[0;31m---------------------------------------------------------------------------\u001b[0m",
            "\u001b[0;31mNameError\u001b[0m                                 Traceback (most recent call last)",
            "\u001b[0;32m<ipython-input-5-7b0a1ef4fff0>\u001b[0m in \u001b[0;36m<module>\u001b[0;34m\u001b[0m\n\u001b[1;32m     15\u001b[0m \u001b[0mprint\u001b[0m\u001b[0;34m(\u001b[0m\u001b[0;34m\"Sum =\"\u001b[0m\u001b[0;34m,\u001b[0m\u001b[0msum\u001b[0m\u001b[0;34m(\u001b[0m\u001b[0mfirstInt\u001b[0m\u001b[0;34m,\u001b[0m\u001b[0msecondInt\u001b[0m\u001b[0;34m,\u001b[0m\u001b[0mthirdInt\u001b[0m\u001b[0;34m)\u001b[0m\u001b[0;34m)\u001b[0m\u001b[0;34m\u001b[0m\u001b[0;34m\u001b[0m\u001b[0m\n\u001b[1;32m     16\u001b[0m \u001b[0mprint\u001b[0m\u001b[0;34m(\u001b[0m\u001b[0;34m\"Average =\"\u001b[0m\u001b[0;34m,\u001b[0m\u001b[0maverage\u001b[0m\u001b[0;34m(\u001b[0m\u001b[0mfirstInt\u001b[0m\u001b[0;34m,\u001b[0m\u001b[0msecondInt\u001b[0m\u001b[0;34m,\u001b[0m\u001b[0mthirdInt\u001b[0m\u001b[0;34m)\u001b[0m\u001b[0;34m)\u001b[0m\u001b[0;34m\u001b[0m\u001b[0;34m\u001b[0m\u001b[0m\n\u001b[0;32m---> 17\u001b[0;31m \u001b[0mprint\u001b[0m\u001b[0;34m(\u001b[0m\u001b[0;34m\"Sum of Squares =\"\u001b[0m\u001b[0;34m,\u001b[0m\u001b[0msumSquare\u001b[0m\u001b[0;34m(\u001b[0m\u001b[0mfirstInt\u001b[0m\u001b[0;34m,\u001b[0m\u001b[0msecondInt\u001b[0m\u001b[0;34m,\u001b[0m\u001b[0mthirdInt\u001b[0m\u001b[0;34m)\u001b[0m\u001b[0;34m)\u001b[0m\u001b[0;34m\u001b[0m\u001b[0;34m\u001b[0m\u001b[0m\n\u001b[0m",
            "\u001b[0;32m<ipython-input-5-7b0a1ef4fff0>\u001b[0m in \u001b[0;36msumSquare\u001b[0;34m(firstInt, secondInt, thirdInt)\u001b[0m\n\u001b[1;32m      7\u001b[0m   \u001b[0;32mreturn\u001b[0m \u001b[0mfirstInt\u001b[0m \u001b[0;34m+\u001b[0m \u001b[0msecondInt\u001b[0m \u001b[0;34m+\u001b[0m \u001b[0mthirdInt\u001b[0m\u001b[0;34m/\u001b[0m\u001b[0;36m3\u001b[0m\u001b[0;34m\u001b[0m\u001b[0;34m\u001b[0m\u001b[0m\n\u001b[1;32m      8\u001b[0m \u001b[0;32mdef\u001b[0m \u001b[0msumSquare\u001b[0m\u001b[0;34m(\u001b[0m\u001b[0mfirstInt\u001b[0m\u001b[0;34m,\u001b[0m\u001b[0msecondInt\u001b[0m\u001b[0;34m,\u001b[0m\u001b[0mthirdInt\u001b[0m\u001b[0;34m)\u001b[0m\u001b[0;34m:\u001b[0m\u001b[0;34m\u001b[0m\u001b[0;34m\u001b[0m\u001b[0m\n\u001b[0;32m----> 9\u001b[0;31m   \u001b[0;32mreturn\u001b[0m \u001b[0mmath\u001b[0m\u001b[0;34m.\u001b[0m\u001b[0mpow\u001b[0m\u001b[0;34m(\u001b[0m\u001b[0mfirstInt\u001b[0m\u001b[0;34m,\u001b[0m\u001b[0;36m2\u001b[0m\u001b[0;34m)\u001b[0m \u001b[0;34m+\u001b[0m \u001b[0mmath\u001b[0m\u001b[0;34m.\u001b[0m\u001b[0mpow\u001b[0m\u001b[0;34m(\u001b[0m\u001b[0msecondInt\u001b[0m\u001b[0;34m,\u001b[0m\u001b[0;36m2\u001b[0m\u001b[0;34m)\u001b[0m \u001b[0;34m+\u001b[0m \u001b[0mmath\u001b[0m\u001b[0;34m.\u001b[0m\u001b[0mpow\u001b[0m\u001b[0;34m(\u001b[0m\u001b[0mthirdInt\u001b[0m\u001b[0;34m,\u001b[0m\u001b[0;36m2\u001b[0m\u001b[0;34m)\u001b[0m\u001b[0;34m\u001b[0m\u001b[0;34m\u001b[0m\u001b[0m\n\u001b[0m\u001b[1;32m     10\u001b[0m \u001b[0;34m\u001b[0m\u001b[0m\n\u001b[1;32m     11\u001b[0m \u001b[0mfirstInt\u001b[0m\u001b[0;34m=\u001b[0m \u001b[0mint\u001b[0m\u001b[0;34m(\u001b[0m\u001b[0minput\u001b[0m\u001b[0;34m(\u001b[0m\u001b[0;34m)\u001b[0m\u001b[0;34m)\u001b[0m\u001b[0;34m\u001b[0m\u001b[0;34m\u001b[0m\u001b[0m\n",
            "\u001b[0;31mNameError\u001b[0m: name 'math' is not defined"
          ]
        }
      ]
    },
    {
      "cell_type": "code",
      "source": [
        "#Application\n",
        "#Create formula of area of different shapes\n",
        "\n",
        "def rectangle(l,w):\n",
        "  return l*w\n",
        "\n",
        "l = int(input())\n",
        "w = int(input())\n",
        "\n",
        "print(rectangle(l,w))"
      ],
      "metadata": {
        "colab": {
          "base_uri": "https://localhost:8080/"
        },
        "id": "S39X9zAwn0Di",
        "outputId": "15190892-4871-4e3f-f474-2b9bda6700c8"
      },
      "execution_count": 6,
      "outputs": [
        {
          "output_type": "stream",
          "name": "stdout",
          "text": [
            "10\n",
            "25\n",
            "250\n"
          ]
        }
      ]
    }
  ]
}