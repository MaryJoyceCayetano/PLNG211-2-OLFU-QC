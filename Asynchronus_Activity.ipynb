{
  "nbformat": 4,
  "nbformat_minor": 0,
  "metadata": {
    "colab": {
      "provenance": [],
      "authorship_tag": "ABX9TyNdF8g4roGtvLSR7hl9bWsC",
      "include_colab_link": true
    },
    "kernelspec": {
      "name": "python3",
      "display_name": "Python 3"
    },
    "language_info": {
      "name": "python"
    }
  },
  "cells": [
    {
      "cell_type": "markdown",
      "metadata": {
        "id": "view-in-github",
        "colab_type": "text"
      },
      "source": [
        "<a href=\"https://colab.research.google.com/github/MaryJoyceCayetano/PLNG211-2-OLFU-QC/blob/main/Asynchronus_Activity.ipynb\" target=\"_parent\"><img src=\"https://colab.research.google.com/assets/colab-badge.svg\" alt=\"Open In Colab\"/></a>"
      ]
    },
    {
      "cell_type": "markdown",
      "source": [
        "Variables and Data Types"
      ],
      "metadata": {
        "id": "b1vibB7JYL-P"
      }
    },
    {
      "cell_type": "markdown",
      "source": [
        "Number"
      ],
      "metadata": {
        "id": "SPyGPVdwKLuF"
      }
    },
    {
      "cell_type": "code",
      "source": [
        "varNun = 123\n",
        "pi = 3.14159"
      ],
      "metadata": {
        "id": "ChHEpK1UE-_T"
      },
      "execution_count": 15,
      "outputs": []
    },
    {
      "cell_type": "markdown",
      "source": [
        "String"
      ],
      "metadata": {
        "id": "nvj4W8ZaFH-C"
      }
    },
    {
      "cell_type": "code",
      "source": [
        "varString = \"Hello World\"\n",
        "varText = 'This is a String'"
      ],
      "metadata": {
        "id": "yFozXwg_FK0I"
      },
      "execution_count": null,
      "outputs": []
    },
    {
      "cell_type": "markdown",
      "source": [
        "Lists"
      ],
      "metadata": {
        "id": "yOQeZRsKFW7I"
      }
    },
    {
      "cell_type": "code",
      "source": [
        "varList = [\"abc\", 123]"
      ],
      "metadata": {
        "id": "xVzQw0EpFYmU"
      },
      "execution_count": null,
      "outputs": []
    },
    {
      "cell_type": "markdown",
      "source": [
        "Tuples"
      ],
      "metadata": {
        "id": "eXhmZb-PFgFT"
      }
    },
    {
      "cell_type": "code",
      "source": [
        "varTuple = ('abc', 123, \"HELLO\")"
      ],
      "metadata": {
        "id": "qJELuCj6FiL6"
      },
      "execution_count": null,
      "outputs": []
    },
    {
      "cell_type": "markdown",
      "source": [
        "Dictionaries"
      ],
      "metadata": {
        "id": "OL89w_n9FqH5"
      }
    },
    {
      "cell_type": "code",
      "source": [
        "var = 3\n",
        "varDict = { 'first': 1, '2': '2nd', 3:var}"
      ],
      "metadata": {
        "id": "smzXVX7cFurh"
      },
      "execution_count": null,
      "outputs": []
    },
    {
      "cell_type": "markdown",
      "source": [],
      "metadata": {
        "id": "U2_6YHMKF_LW"
      }
    },
    {
      "cell_type": "markdown",
      "source": [
        "Arithmetic Operators "
      ],
      "metadata": {
        "id": "cpQLscN3GAMB"
      }
    },
    {
      "cell_type": "code",
      "source": [
        "from posixpath import join\n",
        "a = 5 + 3  # Addition\n",
        "b = 5 - 3  # Subtraction\n",
        "c = 5 * 3  # Multiplication \n",
        "d = 5 ** 3 # Exponent\n",
        "e = 5 / 3  # Division\n",
        "f = 5 % 3  # Modulo \n",
        "g = 5 // 3 # floor division\n",
        "\n",
        "h = 5  \n",
        "h += 1     # Increment\n",
        "\n",
        "i = 5      # Decrement\n",
        "i -= 1\n",
        "\n",
        "j = 'Hello ' +  'World'  # String Concatenation\n",
        "\n",
        "k = 3 + 5 - 6 * 2 / 4 \n",
        "\n",
        "print(\"a = \",a)\n",
        "print(\"b = \",b)\n",
        "print(\"c = \",c)\n",
        "print(\"d = \",d)\n",
        "print(\"e = \",e)\n",
        "print(\"f = \",f)\n",
        "print(\"g = \",g)\n",
        "print(\"h = \",h)\n",
        "print(\"i = \",i)\n",
        "print(\"j = \",j)\n",
        "print(\"k = \",k)"
      ],
      "metadata": {
        "colab": {
          "base_uri": "https://localhost:8080/"
        },
        "id": "aSUN9ZI0GEJn",
        "outputId": "e3c449d6-b028-4db7-afd9-0331cffe921e"
      },
      "execution_count": 22,
      "outputs": [
        {
          "output_type": "stream",
          "name": "stdout",
          "text": [
            "a =  8\n",
            "b =  2\n",
            "c =  15\n",
            "d =  125\n",
            "e =  1.6666666666666667\n",
            "f =  2\n",
            "g =  1\n",
            "h =  6\n",
            "i =  4\n",
            "j =  Hello World\n",
            "k =  5.0\n"
          ]
        }
      ]
    },
    {
      "cell_type": "markdown",
      "source": [
        "LOOPS"
      ],
      "metadata": {
        "id": "AjzS-zs7Ifnv"
      }
    },
    {
      "cell_type": "code",
      "source": [
        "for var in range (5):\n",
        "  print(var)\n"
      ],
      "metadata": {
        "colab": {
          "base_uri": "https://localhost:8080/"
        },
        "id": "3ZactGUqIiZ6",
        "outputId": "5d6a6f53-bf54-4c4a-ded0-b8708f1a3534"
      },
      "execution_count": 5,
      "outputs": [
        {
          "output_type": "stream",
          "name": "stdout",
          "text": [
            "0\n",
            "1\n",
            "2\n",
            "3\n",
            "4\n"
          ]
        }
      ]
    },
    {
      "cell_type": "code",
      "source": [
        "for var in range (0,6+1,2):\n",
        "  print(var)"
      ],
      "metadata": {
        "colab": {
          "base_uri": "https://localhost:8080/"
        },
        "id": "wfcdHAoKIuEB",
        "outputId": "b06dd436-37f6-44bd-cd8d-a8510abd059d"
      },
      "execution_count": 8,
      "outputs": [
        {
          "output_type": "stream",
          "name": "stdout",
          "text": [
            "0\n",
            "2\n",
            "4\n",
            "6\n"
          ]
        }
      ]
    },
    {
      "cell_type": "markdown",
      "source": [
        "While Loops"
      ],
      "metadata": {
        "id": "pnKRz4yfJekh"
      }
    },
    {
      "cell_type": "code",
      "source": [
        "var = 0 \n",
        "while var < 5:\n",
        "  print(var)\n",
        "  var += 2"
      ],
      "metadata": {
        "colab": {
          "base_uri": "https://localhost:8080/"
        },
        "id": "RX2ayh-RJhay",
        "outputId": "936fdab5-65a0-4250-8ad2-7e1654a39cad"
      },
      "execution_count": 9,
      "outputs": [
        {
          "output_type": "stream",
          "name": "stdout",
          "text": [
            "0\n",
            "2\n",
            "4\n"
          ]
        }
      ]
    },
    {
      "cell_type": "markdown",
      "source": [
        "Nested Loops"
      ],
      "metadata": {
        "id": "vbuFQe7CJv9V"
      }
    },
    {
      "cell_type": "code",
      "source": [
        "x = 0\n",
        "while x < 5:\n",
        "  for y in range (0,x):\n",
        "    print(y, end=' ')\n",
        "    "
      ],
      "metadata": {
        "id": "VrXaGEBZJyOY"
      },
      "execution_count": null,
      "outputs": []
    },
    {
      "cell_type": "markdown",
      "source": [
        "Slicing"
      ],
      "metadata": {
        "id": "224hHySrzg-b"
      }
    },
    {
      "cell_type": "code",
      "source": [
        "varList = [1,2,3,4,5,6,7,8,9,10]\n",
        "print(varList[2:9:2])"
      ],
      "metadata": {
        "colab": {
          "base_uri": "https://localhost:8080/"
        },
        "id": "4Z-Q6R9LNRBd",
        "outputId": "97ae3ceb-54a6-4053-9f41-300e38610983"
      },
      "execution_count": 10,
      "outputs": [
        {
          "output_type": "stream",
          "name": "stdout",
          "text": [
            "[3, 5, 7, 9]\n"
          ]
        }
      ]
    },
    {
      "cell_type": "markdown",
      "source": [
        "Activity"
      ],
      "metadata": {
        "id": "_qoU06a4OG-s"
      }
    },
    {
      "cell_type": "code",
      "source": [
        "var1,var2,var3 = \"ABC\",\"DEF\",\"GHI\"\n",
        "print(var1)\n",
        "print(var2)\n",
        "print(var3)\n",
        "\n",
        "a =  b = c = \"123\"\n",
        "print(a) \n",
        "print(b)\n",
        "print(c)"
      ],
      "metadata": {
        "colab": {
          "base_uri": "https://localhost:8080/"
        },
        "id": "QCG9VX_VOIm9",
        "outputId": "4dc85344-9c58-4e54-aad7-23509a5a44d3"
      },
      "execution_count": 11,
      "outputs": [
        {
          "output_type": "stream",
          "name": "stdout",
          "text": [
            "ABC\n",
            "DEF\n",
            "GHI\n",
            "123\n",
            "123\n",
            "123\n"
          ]
        }
      ]
    },
    {
      "cell_type": "markdown",
      "source": [
        "Asynchronus Activity "
      ],
      "metadata": {
        "id": "wM53WoHEQR1J"
      }
    },
    {
      "cell_type": "code",
      "source": [
        "# Given the following Values:\n",
        "Salary_rate = 600    # 600 per day\n",
        "Salary = Salary_rate * 15\n",
        "Taxable_amount =  (30*Salary)/100  # 30% of the Salary\n",
        "Net_pay=Salary-Taxable_amount\n",
        "\n",
        "print(\"My Salary per day: \", Salary_rate)\n",
        "print(\"My Salary in 15 days: \", Salary)\n",
        "print(\"My Taxable Amount: \", Taxable_amount)\n",
        "print(\"My Net Pay: \", Net_pay)"
      ],
      "metadata": {
        "colab": {
          "base_uri": "https://localhost:8080/"
        },
        "id": "znBzxOFBQaoX",
        "outputId": "710bcedb-1a31-4f61-a1a0-8fc44b6393af"
      },
      "execution_count": 14,
      "outputs": [
        {
          "output_type": "stream",
          "name": "stdout",
          "text": [
            "My Salary per day:  600\n",
            "My Salary in 15 days:  9000\n",
            "My Taxable Amount:  2700.0\n",
            "My Net Pay:  6300.0\n"
          ]
        }
      ]
    }
  ]
}