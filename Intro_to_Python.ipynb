{
  "nbformat": 4,
  "nbformat_minor": 0,
  "metadata": {
    "colab": {
      "provenance": [],
      "authorship_tag": "ABX9TyOCjSSB3IUVm7hzpfRbo8vh",
      "include_colab_link": true
    },
    "kernelspec": {
      "name": "python3",
      "display_name": "Python 3"
    },
    "language_info": {
      "name": "python"
    }
  },
  "cells": [
    {
      "cell_type": "markdown",
      "metadata": {
        "id": "view-in-github",
        "colab_type": "text"
      },
      "source": [
        "<a href=\"https://colab.research.google.com/github/MaryJoyceCayetano/PLNG211-2-OLFU-QC/blob/main/Intro_to_Python.ipynb\" target=\"_parent\"><img src=\"https://colab.research.google.com/assets/colab-badge.svg\" alt=\"Open In Colab\"/></a>"
      ]
    },
    {
      "cell_type": "code",
      "execution_count": null,
      "metadata": {
        "id": "CqZKC-eP78sE"
      },
      "outputs": [],
      "source": [
        "print(\"Hello, word\")"
      ]
    },
    {
      "cell_type": "code",
      "source": [
        "print(\"Hello, word\")"
      ],
      "metadata": {
        "colab": {
          "base_uri": "https://localhost:8080/"
        },
        "id": "gfXb7dI-8v2o",
        "outputId": "d2a3e4ff-c8c4-40ab-b622-fa41ee70e2d7"
      },
      "execution_count": 1,
      "outputs": [
        {
          "output_type": "stream",
          "name": "stdout",
          "text": [
            "Hello, word\n"
          ]
        }
      ]
    },
    {
      "cell_type": "markdown",
      "source": [
        "#This is a comment\n",
        "print(\"Hello, word\")"
      ],
      "metadata": {
        "id": "rkC1_qME8xzE"
      }
    },
    {
      "cell_type": "markdown",
      "source": [
        "a = 0\n",
        "b = -1\n",
        "\n",
        "a,b = 0, -1\n",
        "a"
      ],
      "metadata": {
        "id": "1a1ZhVRj-Fy1"
      }
    },
    {
      "cell_type": "code",
      "source": [],
      "metadata": {
        "id": "_XGXN94J9HX4"
      },
      "execution_count": null,
      "outputs": []
    }
  ]
}