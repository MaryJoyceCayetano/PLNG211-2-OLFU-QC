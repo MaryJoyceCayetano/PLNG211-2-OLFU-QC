{
  "nbformat": 4,
  "nbformat_minor": 0,
  "metadata": {
    "colab": {
      "provenance": [],
      "authorship_tag": "ABX9TyMBE19y2xu/31yWXXHZnE+h",
      "include_colab_link": true
    },
    "kernelspec": {
      "name": "python3",
      "display_name": "Python 3"
    },
    "language_info": {
      "name": "python"
    }
  },
  "cells": [
    {
      "cell_type": "markdown",
      "metadata": {
        "id": "view-in-github",
        "colab_type": "text"
      },
      "source": [
        "<a href=\"https://colab.research.google.com/github/MaryJoyceCayetano/PLNG211-2-OLFU-QC/blob/main/Intro_to_Python.ipynb\" target=\"_parent\"><img src=\"https://colab.research.google.com/assets/colab-badge.svg\" alt=\"Open In Colab\"/></a>"
      ]
    },
    {
      "cell_type": "markdown",
      "source": [
        "Comment"
      ],
      "metadata": {
        "id": "gbasDjpM-WOP"
      }
    },
    {
      "cell_type": "code",
      "source": [
        "# This is a comment\n",
        "print(\"Hello, word\")"
      ],
      "metadata": {
        "colab": {
          "base_uri": "https://localhost:8080/"
        },
        "id": "gfXb7dI-8v2o",
        "outputId": "0a8772d4-d6ef-4295-b7de-1044c58612ec"
      },
      "execution_count": null,
      "outputs": [
        {
          "output_type": "stream",
          "name": "stdout",
          "text": [
            "Hello, word\n"
          ]
        }
      ]
    },
    {
      "cell_type": "markdown",
      "source": [
        "Python Variable"
      ],
      "metadata": {
        "id": "RO0ywDntNyGp"
      }
    },
    {
      "cell_type": "code",
      "source": [
        "x = 1\n",
        "a = 0 \n",
        "b = -1\n",
        "\n",
        "\n",
        "a,b = 0, -1\n",
        "a,b,c, = 0,-1,2\n",
        "\n",
        "# This is a Type of string\n",
        "d,f= \"Mary\",\"Joyce\" \n",
        "e = \"Mary Joyce Cayetano\"\n",
        "\n",
        "print(a) \n",
        "print(b)\n",
        "print(c)\n",
        "print(x)\n",
        "print(d)\n",
        "print(f)\n",
        "print(e)"
      ],
      "metadata": {
        "colab": {
          "base_uri": "https://localhost:8080/"
        },
        "id": "_XGXN94J9HX4",
        "outputId": "ab8f5976-9018-453d-f7f9-cf339e276d87"
      },
      "execution_count": null,
      "outputs": [
        {
          "output_type": "stream",
          "name": "stdout",
          "text": [
            "0\n",
            "-1\n",
            "2\n",
            "1\n",
            "Mary\n",
            "Joyce\n",
            "Mary Joyce Cayetano\n"
          ]
        }
      ]
    },
    {
      "cell_type": "code",
      "source": [
        "#Single variable\n",
        "a = float(10)\n",
        "b = -1\n",
        "\n",
        "#multiple variables\n",
        "a,b = float(8),-1\n",
        "\n",
        "\n",
        "#string type\n",
        "\n",
        "c = \"Ela\""
      ],
      "metadata": {
        "id": "1jBQq5FgUAi7"
      },
      "execution_count": null,
      "outputs": []
    },
    {
      "cell_type": "code",
      "source": [
        "print(a)\n",
        "\n",
        "#string type\n",
        "\n",
        "c = str(\"Ela\")\n",
        "c\n",
        "\n",
        "print(c)\n",
        "print(c)\n",
        "print(c)"
      ],
      "metadata": {
        "id": "WD20HMz4UgiV",
        "outputId": "7cbeba47-006a-4e26-f896-454dd0ab3387",
        "colab": {
          "base_uri": "https://localhost:8080/"
        }
      },
      "execution_count": null,
      "outputs": [
        {
          "output_type": "stream",
          "name": "stdout",
          "text": [
            "8.0\n",
            "Ela\n",
            "Ela\n",
            "Ela\n"
          ]
        }
      ]
    },
    {
      "cell_type": "markdown",
      "source": [
        "Type () fuction"
      ],
      "metadata": {
        "id": "nllAk5AF-c2A"
      }
    },
    {
      "cell_type": "code",
      "source": [
        "c = str(\"Ela\")\n",
        "print(type(c))"
      ],
      "metadata": {
        "colab": {
          "base_uri": "https://localhost:8080/"
        },
        "id": "RJ10e4KJ-vS1",
        "outputId": "65bf4d7c-a6d6-4bde-b0b4-a208074cac17"
      },
      "execution_count": 3,
      "outputs": [
        {
          "output_type": "stream",
          "name": "stdout",
          "text": [
            "<class 'str'>\n"
          ]
        }
      ]
    },
    {
      "cell_type": "code",
      "source": [
        "#Proper Indentation\n",
        "\n",
        "if 5>2:\n",
        "  print(\"5 is greater than 1\")\n",
        "\n",
        "if 7>2:\n",
        "  print(\"7 is greater than 5\")\n",
        "\n",
        "\n"
      ],
      "metadata": {
        "colab": {
          "base_uri": "https://localhost:8080/"
        },
        "id": "fmovpTxu_g0i",
        "outputId": "4ce4bae1-1842-4b4b-ff45-ac03b6084ce2"
      },
      "execution_count": 10,
      "outputs": [
        {
          "output_type": "stream",
          "name": "stdout",
          "text": [
            "5 is greater than 1\n",
            "7 is greater than 5\n"
          ]
        }
      ]
    },
    {
      "cell_type": "markdown",
      "source": [
        "Single and double Qoute"
      ],
      "metadata": {
        "id": "7o1SV1H6AwTa"
      }
    },
    {
      "cell_type": "code",
      "source": [
        "a = \"Mary Joyce\"\n",
        "b = 'Alfonso Cayetano'\n",
        "\n",
        "print(a)\n",
        "print(b)"
      ],
      "metadata": {
        "colab": {
          "base_uri": "https://localhost:8080/"
        },
        "id": "-YePMTGyA3BT",
        "outputId": "8989cd7d-9c42-4251-be1d-1898a5584e5d"
      },
      "execution_count": 13,
      "outputs": [
        {
          "output_type": "stream",
          "name": "stdout",
          "text": [
            "Mary Joyce\n",
            "Alfonso Cayetano\n"
          ]
        }
      ]
    },
    {
      "cell_type": "markdown",
      "source": [
        "Multiple Variables"
      ],
      "metadata": {
        "id": "hWwr4E-6BjQh"
      }
    },
    {
      "cell_type": "code",
      "source": [
        "m,j,a,c = 10,11,25,26\n",
        "\n",
        "print(m)\n",
        "print(j)\n",
        "print(a)\n",
        "print(c)"
      ],
      "metadata": {
        "colab": {
          "base_uri": "https://localhost:8080/"
        },
        "id": "I0G0d0M5BnWN",
        "outputId": "b16f263a-b88e-4110-cb6c-0611045eceb4"
      },
      "execution_count": 14,
      "outputs": [
        {
          "output_type": "stream",
          "name": "stdout",
          "text": [
            "10\n",
            "11\n",
            "25\n",
            "26\n"
          ]
        }
      ]
    },
    {
      "cell_type": "markdown",
      "source": [
        "Single Values to Multiple Variable"
      ],
      "metadata": {
        "id": "OQCDRCCUB9vT"
      }
    },
    {
      "cell_type": "code",
      "source": [
        "m=j=a=c=\"Mary Joyce Alfonso Cayetano\"\n",
        "\n",
        "print(m)\n",
        "print(j)\n",
        "print(a)\n",
        "print(c)"
      ],
      "metadata": {
        "colab": {
          "base_uri": "https://localhost:8080/"
        },
        "id": "HTDYg4TGCGud",
        "outputId": "9d73c5e8-70ea-4726-d25e-c95266fe0388"
      },
      "execution_count": 17,
      "outputs": [
        {
          "output_type": "stream",
          "name": "stdout",
          "text": [
            "Mary Joyce Alfonso Cayetano\n",
            "Mary Joyce Alfonso Cayetano\n",
            "Mary Joyce Alfonso Cayetano\n",
            "Mary Joyce Alfonso Cayetano\n"
          ]
        }
      ]
    },
    {
      "cell_type": "markdown",
      "source": [
        "Output Variables"
      ],
      "metadata": {
        "id": "uPvxQ1WrCgRh"
      }
    },
    {
      "cell_type": "code",
      "source": [
        "h = \"BSCS\"\n",
        "i = \" 2-YA-2\"\n",
        "j = \" PLNG211\"\n",
        "\n",
        "print(h+i+j)\n",
        "print(\"Im Mary Joyce Cayetano \"+h+i+j+ \" Student\")"
      ],
      "metadata": {
        "colab": {
          "base_uri": "https://localhost:8080/"
        },
        "id": "Ic1PafUqCkYC",
        "outputId": "d7a5807e-484b-4e1a-c73f-148baf08c496"
      },
      "execution_count": 22,
      "outputs": [
        {
          "output_type": "stream",
          "name": "stdout",
          "text": [
            "BSCS 2-YA-2 PLNG211\n",
            "Im Mary Joyce Cayetano BSCS 2-YA-2 PLNG211 Student\n"
          ]
        }
      ]
    },
    {
      "cell_type": "markdown",
      "source": [
        "Arithmetic Operations"
      ],
      "metadata": {
        "id": "alyiGP8iENbv"
      }
    },
    {
      "cell_type": "code",
      "source": [
        "a = 20 + 25 + 26\n",
        "b = 4 - 6\n",
        "c = 3 * 6\n",
        "d = 4 / 2\n",
        "e = 4 % 5\n",
        "f = 61 ** 3\n",
        "g = 26 // 50\n",
        "\n",
        "print(a)\n",
        "print(b)\n",
        "print(c)\n",
        "print(d)\n",
        "print(e)\n",
        "print(f)\n",
        "print(g)"
      ],
      "metadata": {
        "colab": {
          "base_uri": "https://localhost:8080/"
        },
        "id": "tmzEVIvvES4E",
        "outputId": "7884099b-0dab-470b-ef6b-cbf5ec3b7ba7"
      },
      "execution_count": 27,
      "outputs": [
        {
          "output_type": "stream",
          "name": "stdout",
          "text": [
            "71\n",
            "-2\n",
            "18\n",
            "2.0\n",
            "4\n",
            "226981\n",
            "0\n"
          ]
        }
      ]
    },
    {
      "cell_type": "markdown",
      "source": [
        "Assignment Operators"
      ],
      "metadata": {
        "id": "fUNZ18QcGTDH"
      }
    },
    {
      "cell_type": "code",
      "source": [
        "h = 13\n",
        "i = 12\n",
        "\n",
        "h += 13  # h = h + 13   h = 13 + 13\n",
        "i += 12  # i = i + 12   i = 12 + 12\n",
        "\n",
        "print(h)\n",
        "print(i)"
      ],
      "metadata": {
        "colab": {
          "base_uri": "https://localhost:8080/"
        },
        "id": "3UtRrWCOGc1N",
        "outputId": "3d4db513-3a99-4e81-9d8d-8fb1bc8805fd"
      },
      "execution_count": 28,
      "outputs": [
        {
          "output_type": "stream",
          "name": "stdout",
          "text": [
            "26\n",
            "24\n"
          ]
        }
      ]
    },
    {
      "cell_type": "markdown",
      "source": [
        "Comparison Operators"
      ],
      "metadata": {
        "id": "MOxDyxYTGeMe"
      }
    },
    {
      "cell_type": "code",
      "source": [
        "j = 75 > 5   # True\n",
        "k = 100 < 10 # False\n",
        "mj = 200 > 100 # True\n",
        "\n",
        "print(j)\n",
        "print(k)\n",
        "print(mj)\n",
        "\n",
        "not( j or k or mj )"
      ],
      "metadata": {
        "colab": {
          "base_uri": "https://localhost:8080/"
        },
        "id": "89uvGZYUJ0FA",
        "outputId": "7222dc21-6102-4863-9651-043e8fde3c7f"
      },
      "execution_count": 47,
      "outputs": [
        {
          "output_type": "stream",
          "name": "stdout",
          "text": [
            "True\n",
            "False\n",
            "True\n"
          ]
        },
        {
          "output_type": "execute_result",
          "data": {
            "text/plain": [
              "False"
            ]
          },
          "metadata": {},
          "execution_count": 47
        }
      ]
    },
    {
      "cell_type": "markdown",
      "source": [
        "Identity Operators"
      ],
      "metadata": {
        "id": "wz-q-g5aGjDM"
      }
    },
    {
      "cell_type": "code",
      "source": [
        "'mj' is not 'jm'"
      ],
      "metadata": {
        "colab": {
          "base_uri": "https://localhost:8080/"
        },
        "id": "2rj3gwp7Gq0e",
        "outputId": "d84750fe-e7c4-4791-a45d-36d3ba21a9f6"
      },
      "execution_count": 51,
      "outputs": [
        {
          "output_type": "execute_result",
          "data": {
            "text/plain": [
              "True"
            ]
          },
          "metadata": {},
          "execution_count": 51
        }
      ]
    },
    {
      "cell_type": "code",
      "source": [
        "\"Mary\" is not \"Mary\""
      ],
      "metadata": {
        "colab": {
          "base_uri": "https://localhost:8080/"
        },
        "id": "0jfYdOXTLUTr",
        "outputId": "9b8ec530-480d-4466-cc4e-143a7f073b52"
      },
      "execution_count": 52,
      "outputs": [
        {
          "output_type": "execute_result",
          "data": {
            "text/plain": [
              "False"
            ]
          },
          "metadata": {},
          "execution_count": 52
        }
      ]
    },
    {
      "cell_type": "markdown",
      "source": [
        "Bitwise Operators"
      ],
      "metadata": {
        "id": "Hsu7gvOAGrNp"
      }
    },
    {
      "cell_type": "code",
      "source": [
        "l = 20\n",
        "l << 2\n",
        "\n",
        "m = 2\n",
        "m >> 1"
      ],
      "metadata": {
        "colab": {
          "base_uri": "https://localhost:8080/"
        },
        "id": "Q54FTkWbGw4H",
        "outputId": "137a8b6b-92f2-4b7b-bcdf-eebcfb913771"
      },
      "execution_count": 55,
      "outputs": [
        {
          "output_type": "execute_result",
          "data": {
            "text/plain": [
              "1"
            ]
          },
          "metadata": {},
          "execution_count": 55
        }
      ]
    }
  ]
}