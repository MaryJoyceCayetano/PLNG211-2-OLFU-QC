{
  "nbformat": 4,
  "nbformat_minor": 0,
  "metadata": {
    "colab": {
      "provenance": [],
      "authorship_tag": "ABX9TyOp1A2HWys4Av1d0wyfAPc3",
      "include_colab_link": true
    },
    "kernelspec": {
      "name": "python3",
      "display_name": "Python 3"
    },
    "language_info": {
      "name": "python"
    }
  },
  "cells": [
    {
      "cell_type": "markdown",
      "metadata": {
        "id": "view-in-github",
        "colab_type": "text"
      },
      "source": [
        "<a href=\"https://colab.research.google.com/github/MaryJoyceCayetano/PLNG211-2-OLFU-QC/blob/main/CAYETANO_LAB_ACTIVITY_1.ipynb\" target=\"_parent\"><img src=\"https://colab.research.google.com/assets/colab-badge.svg\" alt=\"Open In Colab\"/></a>"
      ]
    },
    {
      "cell_type": "code",
      "execution_count": 2,
      "metadata": {
        "colab": {
          "base_uri": "https://localhost:8080/"
        },
        "id": "WQe-EiOLlsZm",
        "outputId": "48db632d-85c2-4e6c-e683-502328dfda13"
      },
      "outputs": [
        {
          "output_type": "stream",
          "name": "stdout",
          "text": [
            "2\n",
            "4\n",
            "6\n",
            "8\n",
            "10\n",
            "1\n",
            "3\n",
            "5\n",
            "7\n",
            "9\n",
            "Sum of all the elements of an array: 55\n"
          ]
        }
      ],
      "source": [
        "# 1. \n",
        "from array import *\n",
        "array_num = array ('i', [2,4,6,8,10,1,3,5,7,9,])\n",
        "sum = 0\n",
        "print(array_num[0])\n",
        "print(array_num[1])\n",
        "print(array_num[2])\n",
        "print(array_num[3])\n",
        "print(array_num[4])\n",
        "print(array_num[5])\n",
        "print(array_num[6])\n",
        "print(array_num[7])\n",
        "print(array_num[8])\n",
        "print(array_num[9])\n",
        "for i in range(0, len(array_num)):    \n",
        "   sum = sum + array_num[i];    \n",
        "\n",
        "print(\"Sum of all the elements of an array: \" + str(sum));\n"
      ]
    },
    {
      "cell_type": "code",
      "source": [
        "# 2.\n",
        "from array import *\n",
        "numbers = [1, 2, 3, 4, 5, 6, 7, 8, 9, 10]\n",
        "print(\"Original array: \"+str(numbers))\n",
        "numbers.append(11)\n",
        "numbers"
      ],
      "metadata": {
        "colab": {
          "base_uri": "https://localhost:8080/"
        },
        "id": "fKmFU1KZndJw",
        "outputId": "dccab5b0-d884-4db3-f648-774af8518d99"
      },
      "execution_count": 3,
      "outputs": [
        {
          "output_type": "stream",
          "name": "stdout",
          "text": [
            "Original array: [1, 2, 3, 4, 5, 6, 7, 8, 9, 10]\n"
          ]
        },
        {
          "output_type": "execute_result",
          "data": {
            "text/plain": [
              "[1, 2, 3, 4, 5, 6, 7, 8, 9, 10, 11]"
            ]
          },
          "metadata": {},
          "execution_count": 3
        }
      ]
    },
    {
      "cell_type": "code",
      "source": [
        "# 3.\n",
        "from array import *\n",
        "numbers = [1, 2, 3, 4, 5, 6, 7, 8, 9, 10]\n",
        "print(\"Original array: \"+str(numbers))\n",
        "numbers.insert(1, 28)\n",
        "numbers"
      ],
      "metadata": {
        "colab": {
          "base_uri": "https://localhost:8080/"
        },
        "id": "vFUTe5B7oRmG",
        "outputId": "d7b96f0b-6825-461f-ec00-9a2f95e3e655"
      },
      "execution_count": 4,
      "outputs": [
        {
          "output_type": "stream",
          "name": "stdout",
          "text": [
            "Original array: [1, 2, 3, 4, 5, 6, 7, 8, 9, 10]\n"
          ]
        },
        {
          "output_type": "execute_result",
          "data": {
            "text/plain": [
              "[1, 28, 2, 3, 4, 5, 6, 7, 8, 9, 10]"
            ]
          },
          "metadata": {},
          "execution_count": 4
        }
      ]
    },
    {
      "cell_type": "code",
      "source": [
        "# 4.\n",
        "from array import *\n",
        "numbers = [5, 4, 3, 2, 1]\n",
        "numbers.reverse()\n",
        "print(numbers)"
      ],
      "metadata": {
        "colab": {
          "base_uri": "https://localhost:8080/"
        },
        "id": "StlMu-TVoXW6",
        "outputId": "905468c6-2022-4d55-b1fe-2044a99952b9"
      },
      "execution_count": 6,
      "outputs": [
        {
          "output_type": "stream",
          "name": "stdout",
          "text": [
            "[1, 2, 3, 4, 5]\n"
          ]
        }
      ]
    },
    {
      "cell_type": "code",
      "source": [
        "# 5. \n",
        "numbers = [5, 4, 3, 2, 1]\n",
        "A = len(numbers)\n",
        "print(A)"
      ],
      "metadata": {
        "colab": {
          "base_uri": "https://localhost:8080/"
        },
        "id": "5BK8amVKoeK1",
        "outputId": "63574a32-10f0-4b34-8c87-2112c95a875b"
      },
      "execution_count": 9,
      "outputs": [
        {
          "output_type": "stream",
          "name": "stdout",
          "text": [
            "5\n"
          ]
        }
      ]
    }
  ]
}